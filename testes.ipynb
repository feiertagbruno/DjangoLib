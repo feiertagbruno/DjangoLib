{
 "cells": [
  {
   "cell_type": "code",
   "execution_count": 12,
   "metadata": {},
   "outputs": [
    {
     "data": {
      "text/plain": [
       "str"
      ]
     },
     "execution_count": 12,
     "metadata": {},
     "output_type": "execute_result"
    }
   ],
   "source": [
    "from datetime import datetime\n",
    "\n",
    "data = datetime.today()\n",
    "\n",
    "type(f'{data:%d/%m/%Y}')"
   ]
  },
  {
   "cell_type": "code",
   "execution_count": 3,
   "metadata": {},
   "outputs": [
    {
     "name": "stdout",
     "output_type": "stream",
     "text": [
      "pqp\n"
     ]
    }
   ],
   "source": [
    "variavel = True\n",
    "galinha = False\n",
    "\n",
    "if variavel == True and galinha == False:\n",
    "    print(\"pqp\")"
   ]
  },
  {
   "cell_type": "code",
   "execution_count": 12,
   "metadata": {},
   "outputs": [],
   "source": [
    "import sqlite3 as sql\n",
    "caminho_banco = r\"C:\\Users\\Feier\\OneDrive\\Área de Trabalho\\PythonCasa\\DjangoLib\\db.sqlite3\"\n",
    "banco = sql.connect(caminho_banco)\n",
    "consulta = banco.cursor()\n",
    "#query = \"DELETE FROM recipes_recipe WHERE title = ''\"\n",
    "#query = \"SELECT * FROM recipes_recipe WHERE title = ''\"\n",
    "query = \"UPDATE recipes_recipe SET is_published = True\"\n",
    "li = consulta.execute(query)\n",
    "banco.commit()\n",
    "\n",
    "for l in li:\n",
    "    print(l)\n"
   ]
  },
  {
   "cell_type": "code",
   "execution_count": 59,
   "metadata": {},
   "outputs": [
    {
     "data": {
      "text/plain": [
       "[1, 'a', True]"
      ]
     },
     "execution_count": 59,
     "metadata": {},
     "output_type": "execute_result"
    }
   ],
   "source": [
    "#testando dicionarios\n",
    "\n",
    "dicio = {\"a\":[1,\"a\",True],\"b\":2,\"c\":3}\n",
    "dicio[\"d\"] = 2\n",
    "dicio[\"a\"]"
   ]
  },
  {
   "cell_type": "code",
   "execution_count": 28,
   "metadata": {},
   "outputs": [
    {
     "name": "stdout",
     "output_type": "stream",
     "text": [
      "1\n",
      "1\n",
      "1\n",
      "1\n",
      "1\n",
      "1\n",
      "1\n",
      "1\n",
      "1\n",
      "1\n",
      "1\n",
      "1\n",
      "1\n",
      "1\n",
      "1\n",
      "1\n",
      "1\n",
      "1\n",
      "1\n",
      "1\n"
     ]
    }
   ],
   "source": [
    "for _ in range(20):\n",
    "    print(1)"
   ]
  },
  {
   "cell_type": "code",
   "execution_count": 48,
   "metadata": {},
   "outputs": [
    {
     "name": "stdout",
     "output_type": "stream",
     "text": [
      "consectetur\n",
      "velit\n",
      "odit\n",
      "numquam\n",
      "quam\n"
     ]
    }
   ],
   "source": [
    "from faker import Faker\n",
    "\n",
    "fk = Faker(\"pt_BR\")\n",
    "\n",
    "for i in range(5):\n",
    "    print(fk.word())"
   ]
  },
  {
   "cell_type": "code",
   "execution_count": 58,
   "metadata": {},
   "outputs": [
    {
     "name": "stdout",
     "output_type": "stream",
     "text": [
      "Atomos são usados em um programa pra denotar valores distintos. Qualquer elemento de uma tupla pode ser acessado a qualque tempo.\n",
      "😳\n",
      "Milho\n"
     ]
    }
   ],
   "source": [
    "from mimesis import Generic\n",
    "\n",
    "# Criar um objeto mimesis\n",
    "gen = Generic('pt')\n",
    "\n",
    "# Exemplo de uso para gerar uma palavra\n",
    "palavra = gen.text.text(quantity=2)\n",
    "print(palavra)\n",
    "\n",
    "frase_curta = gen.text.emoji()\n",
    "print(frase_curta)\n",
    "\n",
    "numero_inteiro = gen.food.vegetable()\n",
    "print(numero_inteiro)"
   ]
  },
  {
   "cell_type": "code",
   "execution_count": 63,
   "metadata": {},
   "outputs": [
    {
     "data": {
      "text/plain": [
       "'a-frase-do-ano'"
      ]
     },
     "execution_count": 63,
     "metadata": {},
     "output_type": "execute_result"
    }
   ],
   "source": [
    "#teste com split\n",
    "\n",
    "frase = \"a frase do ano\"\n",
    "frase_split = frase.split()\n",
    "frase_slug = \"\"\n",
    "for i in range(len(frase_split)):\n",
    "    frase_slug += frase_split[i] + \"-\"\n",
    "\n",
    "frase_slug = frase_slug[:len(frase_slug)-1]\n",
    "frase_slug"
   ]
  },
  {
   "cell_type": "code",
   "execution_count": 3,
   "metadata": {},
   "outputs": [
    {
     "ename": "SyntaxError",
     "evalue": "invalid syntax (197031452.py, line 2)",
     "output_type": "error",
     "traceback": [
      "\u001b[1;36m  Cell \u001b[1;32mIn[3], line 2\u001b[1;36m\u001b[0m\n\u001b[1;33m    if (\u001b[0m\n\u001b[1;37m    ^\u001b[0m\n\u001b[1;31mSyntaxError\u001b[0m\u001b[1;31m:\u001b[0m invalid syntax\n"
     ]
    }
   ],
   "source": [
    "# deu não pae\n",
    "if (\n",
    "    if (\n",
    "        1 == 1:\n",
    "        1\n",
    "    )\n",
    ") == 1:\n",
    "    print(\"continue\")"
   ]
  },
  {
   "cell_type": "code",
   "execution_count": 14,
   "metadata": {},
   "outputs": [
    {
     "name": "stderr",
     "output_type": "stream",
     "text": [
      "<>:2: SyntaxWarning: invalid escape sequence '\\c'\n",
      "<>:2: SyntaxWarning: invalid escape sequence '\\c'\n",
      "C:\\Users\\Feier\\AppData\\Local\\Temp\\ipykernel_11952\\2654279559.py:2: SyntaxWarning: invalid escape sequence '\\c'\n",
      "  codigo_hexadecimal = b\"\\c3a9\"\n"
     ]
    },
    {
     "data": {
      "text/plain": [
       "'\\\\c3a9'"
      ]
     },
     "execution_count": 14,
     "metadata": {},
     "output_type": "execute_result"
    }
   ],
   "source": [
    "\n"
   ]
  },
  {
   "cell_type": "code",
   "execution_count": 12,
   "metadata": {},
   "outputs": [
    {
     "data": {
      "text/plain": [
       "b'\\xc3\\xa1\\xc3\\xa9\\xc3\\xad\\xc3\\xb3\\xc3\\xba'"
      ]
     },
     "execution_count": 12,
     "metadata": {},
     "output_type": "execute_result"
    }
   ],
   "source": [
    "car = \"áéíóú\"\n",
    "car_encode = car.encode(\"utf-8\")\n",
    "car_encode"
   ]
  },
  {
   "cell_type": "code",
   "execution_count": 13,
   "metadata": {},
   "outputs": [
    {
     "data": {
      "text/plain": [
       "'áéíóú'"
      ]
     },
     "execution_count": 13,
     "metadata": {},
     "output_type": "execute_result"
    }
   ],
   "source": [
    "car = b'\\xc3\\xa1\\xc3\\xa9\\xc3\\xad\\xc3\\xb3\\xc3\\xba'\n",
    "car_decode = car.decode(\"utf-8\")\n",
    "car_decode"
   ]
  },
  {
   "cell_type": "code",
   "execution_count": 4,
   "metadata": {},
   "outputs": [
    {
     "data": {
      "text/plain": [
       "[2]"
      ]
     },
     "execution_count": 4,
     "metadata": {},
     "output_type": "execute_result"
    }
   ],
   "source": [
    "a = list(range(2,3))\n",
    "a"
   ]
  },
  {
   "cell_type": "code",
   "execution_count": 3,
   "metadata": {},
   "outputs": [
    {
     "name": "stdout",
     "output_type": "stream",
     "text": [
      "abcdefghijklmnopqrstuvwxyzABCDEFGHIJKLMNOPQRSTUVWXYZ\n",
      "!\"#$%&'()*+,-./:;<=>?@[\\]^_`{|}~\n"
     ]
    }
   ],
   "source": [
    "import string\n",
    "\n",
    "print(string.ascii_letters)\n",
    "print(string.punctuation)"
   ]
  },
  {
   "cell_type": "code",
   "execution_count": 4,
   "metadata": {},
   "outputs": [
    {
     "data": {
      "text/plain": [
       "['artglogo', 'artglogo', 'artglogo']"
      ]
     },
     "execution_count": 4,
     "metadata": {},
     "output_type": "execute_result"
    }
   ],
   "source": [
    "import re\n",
    "\n",
    "frase = \"artglogo-artglogo-artglogo\"\n",
    "\n",
    "re.findall(\"artglogo\",frase)\n",
    "\n",
    "\n"
   ]
  },
  {
   "cell_type": "code",
   "execution_count": 8,
   "metadata": {},
   "outputs": [
    {
     "name": "stdout",
     "output_type": "stream",
     "text": [
      "estudando bastante\n"
     ]
    }
   ],
   "source": [
    "bruno = \"estudando bastante\"\n",
    "\n",
    "if \"estud\" in bruno:\n",
    "    print(bruno)\n"
   ]
  },
  {
   "cell_type": "code",
   "execution_count": 11,
   "metadata": {},
   "outputs": [
    {
     "name": "stdout",
     "output_type": "stream",
     "text": [
      "123\n"
     ]
    }
   ],
   "source": [
    "#isso dá erro\n",
    "\n",
    "bruno = 123\n",
    "\n",
    "if 12 in bruno:\n",
    "    print(bruno)"
   ]
  },
  {
   "cell_type": "code",
   "execution_count": 2,
   "metadata": {},
   "outputs": [
    {
     "data": {
      "text/plain": [
       "['']"
      ]
     },
     "execution_count": 2,
     "metadata": {},
     "output_type": "execute_result"
    }
   ],
   "source": [
    "import re\n",
    "\n",
    "frase = \"aA1\"\n",
    "\n",
    "regex = re.compile(r\"(?=.*[a-z])(?=.*[A-Z])(?=.*[0-9])\")\n",
    "\n",
    "regex.findall(frase)"
   ]
  },
  {
   "cell_type": "code",
   "execution_count": null,
   "metadata": {},
   "outputs": [],
   "source": []
  }
 ],
 "metadata": {
  "kernelspec": {
   "display_name": "venv",
   "language": "python",
   "name": "python3"
  },
  "language_info": {
   "codemirror_mode": {
    "name": "ipython",
    "version": 3
   },
   "file_extension": ".py",
   "mimetype": "text/x-python",
   "name": "python",
   "nbconvert_exporter": "python",
   "pygments_lexer": "ipython3",
   "version": "3.12.2"
  }
 },
 "nbformat": 4,
 "nbformat_minor": 2
}
