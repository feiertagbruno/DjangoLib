{
 "cells": [
  {
   "cell_type": "code",
   "execution_count": 12,
   "metadata": {},
   "outputs": [
    {
     "data": {
      "text/plain": [
       "str"
      ]
     },
     "execution_count": 12,
     "metadata": {},
     "output_type": "execute_result"
    }
   ],
   "source": [
    "from datetime import datetime\n",
    "\n",
    "data = datetime.today()\n",
    "\n",
    "type(f'{data:%d/%m/%Y}')"
   ]
  },
  {
   "cell_type": "code",
   "execution_count": 3,
   "metadata": {},
   "outputs": [
    {
     "name": "stdout",
     "output_type": "stream",
     "text": [
      "pqp\n"
     ]
    }
   ],
   "source": [
    "variavel = True\n",
    "galinha = False\n",
    "\n",
    "if variavel == True and galinha == False:\n",
    "    print(\"pqp\")"
   ]
  },
  {
   "cell_type": "code",
   "execution_count": 12,
   "metadata": {},
   "outputs": [],
   "source": [
    "import sqlite3 as sql\n",
    "caminho_banco = r\"C:\\Users\\Gizel\\OneDrive\\Área de Trabalho\\PythonCasa\\DjangoLib\\db.sqlite3\"\n",
    "banco = sql.connect(caminho_banco)\n",
    "consulta = banco.cursor()\n",
    "#query = \"DELETE FROM recipes_recipe WHERE title = ''\"\n",
    "#query = \"SELECT * FROM recipes_recipe WHERE title = ''\"\n",
    "query = \"UPDATE recipes_recipe SET is_published = True\"\n",
    "li = consulta.execute(query)\n",
    "banco.commit()\n",
    "\n",
    "for l in li:\n",
    "    print(l)\n"
   ]
  },
  {
   "cell_type": "code",
   "execution_count": 59,
   "metadata": {},
   "outputs": [
    {
     "data": {
      "text/plain": [
       "[1, 'a', True]"
      ]
     },
     "execution_count": 59,
     "metadata": {},
     "output_type": "execute_result"
    }
   ],
   "source": [
    "#testando dicionarios\n",
    "\n",
    "dicio = {\"a\":[1,\"a\",True],\"b\":2,\"c\":3}\n",
    "dicio[\"d\"] = 2\n",
    "dicio[\"a\"]"
   ]
  },
  {
   "cell_type": "code",
   "execution_count": 28,
   "metadata": {},
   "outputs": [
    {
     "name": "stdout",
     "output_type": "stream",
     "text": [
      "1\n",
      "1\n",
      "1\n",
      "1\n",
      "1\n",
      "1\n",
      "1\n",
      "1\n",
      "1\n",
      "1\n",
      "1\n",
      "1\n",
      "1\n",
      "1\n",
      "1\n",
      "1\n",
      "1\n",
      "1\n",
      "1\n",
      "1\n"
     ]
    }
   ],
   "source": [
    "for _ in range(20):\n",
    "    print(1)"
   ]
  },
  {
   "cell_type": "code",
   "execution_count": 48,
   "metadata": {},
   "outputs": [
    {
     "name": "stdout",
     "output_type": "stream",
     "text": [
      "consectetur\n",
      "velit\n",
      "odit\n",
      "numquam\n",
      "quam\n"
     ]
    }
   ],
   "source": [
    "from faker import Faker\n",
    "\n",
    "fk = Faker(\"pt_BR\")\n",
    "\n",
    "for i in range(5):\n",
    "    print(fk.word())"
   ]
  },
  {
   "cell_type": "code",
   "execution_count": 58,
   "metadata": {},
   "outputs": [
    {
     "name": "stdout",
     "output_type": "stream",
     "text": [
      "Atomos são usados em um programa pra denotar valores distintos. Qualquer elemento de uma tupla pode ser acessado a qualque tempo.\n",
      "😳\n",
      "Milho\n"
     ]
    }
   ],
   "source": [
    "from mimesis import Generic\n",
    "\n",
    "# Criar um objeto mimesis\n",
    "gen = Generic('pt')\n",
    "\n",
    "# Exemplo de uso para gerar uma palavra\n",
    "palavra = gen.text.text(quantity=2)\n",
    "print(palavra)\n",
    "\n",
    "frase_curta = gen.text.emoji()\n",
    "print(frase_curta)\n",
    "\n",
    "numero_inteiro = gen.food.vegetable()\n",
    "print(numero_inteiro)"
   ]
  },
  {
   "cell_type": "code",
   "execution_count": 63,
   "metadata": {},
   "outputs": [
    {
     "data": {
      "text/plain": [
       "'a-frase-do-ano'"
      ]
     },
     "execution_count": 63,
     "metadata": {},
     "output_type": "execute_result"
    }
   ],
   "source": [
    "#teste com split\n",
    "\n",
    "frase = \"a frase do ano\"\n",
    "frase_split = frase.split()\n",
    "frase_slug = \"\"\n",
    "for i in range(len(frase_split)):\n",
    "    frase_slug += frase_split[i] + \"-\"\n",
    "\n",
    "frase_slug = frase_slug[:len(frase_slug)-1]\n",
    "frase_slug"
   ]
  },
  {
   "cell_type": "code",
   "execution_count": 3,
   "metadata": {},
   "outputs": [
    {
     "ename": "SyntaxError",
     "evalue": "invalid syntax (197031452.py, line 2)",
     "output_type": "error",
     "traceback": [
      "\u001b[1;36m  Cell \u001b[1;32mIn[3], line 2\u001b[1;36m\u001b[0m\n\u001b[1;33m    if (\u001b[0m\n\u001b[1;37m    ^\u001b[0m\n\u001b[1;31mSyntaxError\u001b[0m\u001b[1;31m:\u001b[0m invalid syntax\n"
     ]
    }
   ],
   "source": [
    "# deu não pae\n",
    "if (\n",
    "    if (\n",
    "        1 == 1:\n",
    "        1\n",
    "    )\n",
    ") == 1:\n",
    "    print(\"continue\")"
   ]
  },
  {
   "cell_type": "code",
   "execution_count": null,
   "metadata": {},
   "outputs": [],
   "source": []
  }
 ],
 "metadata": {
  "kernelspec": {
   "display_name": "venv",
   "language": "python",
   "name": "python3"
  },
  "language_info": {
   "codemirror_mode": {
    "name": "ipython",
    "version": 3
   },
   "file_extension": ".py",
   "mimetype": "text/x-python",
   "name": "python",
   "nbconvert_exporter": "python",
   "pygments_lexer": "ipython3",
   "version": "3.12.2"
  }
 },
 "nbformat": 4,
 "nbformat_minor": 2
}
